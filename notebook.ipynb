{
 "cells": [
  {
   "cell_type": "markdown",
   "id": "11b49ea61a69f7c2",
   "metadata": {},
   "source": "# Wildfires"
  },
  {
   "cell_type": "markdown",
   "id": "3828e6b37525d3c0",
   "metadata": {},
   "source": [
    "## 1. Import Libraries\n",
    "\n",
    "Import all the libraries we'll need for our analysis:\n"
   ]
  },
  {
   "cell_type": "code",
   "id": "61854ae427702f87",
   "metadata": {},
   "source": [
    "import geopandas as gpd\n",
    "import folium\n",
    "import branca\n",
    "from pathlib import Path"
   ],
   "outputs": [],
   "execution_count": null
  },
  {
   "cell_type": "markdown",
   "id": "c0039d5b9c5864cc",
   "metadata": {},
   "source": [
    "## 2. Load and Clean the Data\n",
    "\n",
    "Load wildfire perimeter data from a GeoJSON file and prepare it for analysis.\n"
   ]
  },
  {
   "cell_type": "code",
   "id": "63321b081fd30cc3",
   "metadata": {},
   "source": [
    "file_name = \"WFIGS_Interagency_Perimeters_YTD.geojson\"\n",
    "wf_perim_path = Path.cwd() / file_name\n",
    "wf_perims_raw = gpd.read_file(wf_perim_path)\n",
    "\n",
    "# Display the raw data\n",
    "wf_perims_raw.head()"
   ],
   "outputs": [],
   "execution_count": null
  },
  {
   "cell_type": "markdown",
   "id": "90f5d64c4dcc3e6c",
   "metadata": {},
   "source": "### View All Columns"
  },
  {
   "cell_type": "code",
   "id": "b9c553d5cda298cf",
   "metadata": {},
   "source": [
    "wf_perims_raw.columns.tolist()"
   ],
   "outputs": [],
   "execution_count": null
  },
  {
   "cell_type": "markdown",
   "id": "352685283736b6f0",
   "metadata": {},
   "source": "### Select and Clean Columns of Interest"
  },
  {
   "cell_type": "code",
   "id": "5e4e0078f4f7ea2",
   "metadata": {},
   "source": [
    "cols = [\n",
    "    \"attr_EstimatedCostToDate\",  # Cost of firefighting efforts\n",
    "    \"attr_IncidentName\",  # Name of the wildfire incident\n",
    "    \"poly_GISAcres\",  # Size of the fire in acres\n",
    "    \"poly_IRWINID\", # IRWIN ID\n",
    "    \"geometry\",\n",
    "]\n",
    "\n",
    "# Create a clean dataset with only the columns we need\n",
    "wf_perims = wf_perims_raw[cols].copy()"
   ],
   "outputs": [],
   "execution_count": null
  },
  {
   "cell_type": "code",
   "id": "1cab5d240847e3c7",
   "metadata": {},
   "source": [
    "# Fill missing values with zeros\n",
    "wf_perims[\"attr_EstimatedCostToDate\"] = wf_perims.attr_EstimatedCostToDate.fillna(value=0)\n",
    "wf_perims[\"poly_GISAcres\"] = wf_perims[\"poly_GISAcres\"].fillna(value=0)"
   ],
   "outputs": [],
   "execution_count": null
  },
  {
   "cell_type": "code",
   "id": "cb14622e7caab9c",
   "metadata": {},
   "source": [
    "# Filter fires below a certain size and cost\n",
    "wf_perims = wf_perims[wf_perims[\"poly_GISAcres\"] >= .01]\n",
    "wf_perims = wf_perims[wf_perims[\"attr_EstimatedCostToDate\"] >= 0]\n",
    "\n",
    "# Display the first few rows of our cleaned dataset\n",
    "wf_perims.head()"
   ],
   "outputs": [],
   "execution_count": null
  },
  {
   "metadata": {},
   "cell_type": "markdown",
   "source": "## 3. Basic Mapping With Folium",
   "id": "1d4037162c977fc7"
  },
  {
   "cell_type": "code",
   "id": "1467cbe0e495fb32",
   "metadata": {},
   "source": [
    "# Create a base map\n",
    "map1 = folium.Map(location=[37.406, -100.110], tiles=\"CartoDB Positron\", zoom_start=5)\n",
    "\n",
    "# Add wildfire perimeters\n",
    "folium.GeoJson(\n",
    "    wf_perims,\n",
    ").add_to(map1)\n",
    "\n",
    "# Display the map\n",
    "map1"
   ],
   "outputs": [],
   "execution_count": null
  },
  {
   "cell_type": "markdown",
   "id": "3720ab982165753e",
   "metadata": {},
   "source": "## 4. Styling With Branca"
  },
  {
   "cell_type": "code",
   "id": "7c48519f7d9ce56d",
   "metadata": {},
   "source": [
    "# Create a color gradient for fire size\n",
    "colormap_size = branca.colormap.LinearColormap(\n",
    "    colors=[\n",
    "        \"green\",\n",
    "        \"yellow\",\n",
    "        \"orange\",\n",
    "        \"red\",\n",
    "    ],  # Color progression from small to large\n",
    "    vmin=wf_perims[\"poly_GISAcres\"].quantile(0.0),  # Minimum value\n",
    "    vmax=wf_perims[\"poly_GISAcres\"].quantile(0.9),\n",
    "    caption=\"Acres Burned\",\n",
    ")"
   ],
   "outputs": [],
   "execution_count": null
  },
  {
   "cell_type": "code",
   "id": "980a0b9d5b0b2b66",
   "metadata": {},
   "source": [
    "# Create a color gradient for fire cost\n",
    "colormap_cost = branca.colormap.LinearColormap(\n",
    "    colors=[\n",
    "        \"green\",\n",
    "        \"yellow\",\n",
    "        \"orange\",\n",
    "        \"red\",\n",
    "    ],  # Color progression from low to high cost\n",
    "    vmin=wf_perims[\"attr_EstimatedCostToDate\"].quantile(0),  # Minimum value\n",
    "    vmax=wf_perims[\"attr_EstimatedCostToDate\"].quantile(0.9),  # 90th percentile\n",
    "    caption=\"Estimated Cost\",\n",
    ")"
   ],
   "outputs": [],
   "execution_count": null
  },
  {
   "cell_type": "markdown",
   "id": "12f094de4c5a8932",
   "metadata": {},
   "source": "## 5. Map with Color Coded Fire Sizes and Popups"
  },
  {
   "cell_type": "code",
   "id": "9720efdc580b44f",
   "metadata": {},
   "source": [
    "# Create a base map\n",
    "map2 = folium.Map(location=[34.406, -110.110], tiles=\"CartoDB Positron\", zoom_start=5)"
   ],
   "outputs": [],
   "execution_count": null
  },
  {
   "cell_type": "code",
   "id": "36e4230becbef72d",
   "metadata": {},
   "source": [
    "# Configure popup information to display when clicking on a fire\n",
    "popup = folium.GeoJsonPopup(\n",
    "    fields=[\n",
    "        \"poly_IRWINID\",\n",
    "        \"attr_IncidentName\",\n",
    "        \"poly_GISAcres\",\n",
    "        \"attr_EstimatedCostToDate\",\n",
    "    ],  # Fields to show\n",
    "    aliases=[\"IRWINID\",\"Incident Name\", \"Acres\", \"Cost\"],  # Field names on popup\n",
    ")"
   ],
   "outputs": [],
   "execution_count": null
  },
  {
   "cell_type": "code",
   "id": "b1456c564fbb4318",
   "metadata": {},
   "source": [
    "# Add wildfire perimeters with color based on size\n",
    "folium.GeoJson(\n",
    "    wf_perims,\n",
    "    style_function=lambda x: {\n",
    "        \"fillColor\": colormap_size(x[\"properties\"][\"poly_GISAcres\"]),  # Color based on acres\n",
    "        \"color\": colormap_size(x[\"properties\"][\"poly_GISAcres\"]),  # Border color\n",
    "    },\n",
    "    popup=popup,  # Add the popup configuration\n",
    ").add_to(map2)"
   ],
   "outputs": [],
   "execution_count": null
  },
  {
   "cell_type": "code",
   "id": "dccb31814e6f322c",
   "metadata": {},
   "source": [
    "# Add the color legend to the map\n",
    "colormap_size.add_to(map2)\n",
    "\n",
    "# Display the map\n",
    "map2"
   ],
   "outputs": [],
   "execution_count": null
  },
  {
   "cell_type": "markdown",
   "id": "4bb78b8380fb20af",
   "metadata": {},
   "source": "## 6. Filter Data by State"
  },
  {
   "cell_type": "code",
   "id": "b65626c15c064e5a",
   "metadata": {},
   "source": [
    "# Load US states boundary data\n",
    "state_data = gpd.read_file(\n",
    "    \"https://raw.githubusercontent.com/python-visualization/folium-example-data/main/us_states.json\"\n",
    ")\n",
    "\n",
    "# Select California, Texas, and Alaska\n",
    "target_states = state_data[state_data[\"id\"].isin([\"CA\", \"TX\", \"AK\"])]\n",
    "\n",
    "# Filter wildfires that intersect with the target states\n",
    "filtered_wf_perims = wf_perims[wf_perims.geometry.intersects(target_states.union_all())]\n",
    "\n",
    "# Create a base map centered on Alaska\n",
    "map3 = folium.Map(location=[66, -150], tiles=\"CartoDB Positron\", zoom_start=4)\n",
    "\n",
    "# Configure popup information\n",
    "popup = folium.GeoJsonPopup(\n",
    "    fields=[\"attr_IncidentName\", \"poly_GISAcres\", \"attr_EstimatedCostToDate\"],\n",
    "    aliases=[\"Incident Name\", \"Acres\", \"Cost\"],\n",
    "    localize=True,\n",
    "    labels=True,\n",
    "    style=\"background-color: blue;\",\n",
    ")\n",
    "\n",
    "# Add the filtered wildfire perimeters to the map\n",
    "folium.GeoJson(\n",
    "    filtered_wf_perims,\n",
    "    style_function=lambda x: {\n",
    "        \"fillColor\": colormap_size(x[\"properties\"][\"poly_GISAcres\"]),  # Color based on acres\n",
    "        \"color\": colormap_size(x[\"properties\"][\"poly_GISAcres\"]),\n",
    "    },\n",
    "    popup=popup,\n",
    ").add_to(map3)\n",
    "\n",
    "# Display the map\n",
    "map3"
   ],
   "outputs": [],
   "execution_count": null
  },
  {
   "cell_type": "markdown",
   "id": "cde6edb2bab29e53",
   "metadata": {},
   "source": "## 7. Map of Fire Counts by State"
  },
  {
   "cell_type": "code",
   "id": "ed1443c536727ab0",
   "metadata": {},
   "source": [
    "# Create a base map\n",
    "map4 = folium.Map(location=[34, -110], tiles=\"CartoDB Positron\", zoom_start=4)"
   ],
   "outputs": [],
   "execution_count": null
  },
  {
   "cell_type": "code",
   "id": "f2ac6bbdbdbf655c",
   "metadata": {},
   "source": [
    "# Load US states boundary data (if not already loaded)\n",
    "if \"state_data\" not in locals():\n",
    "    state_data = gpd.read_file(\n",
    "        \"https://raw.githubusercontent.com/python-visualization/folium-example-data/main/us_states.json\"\n",
    "    )"
   ],
   "outputs": [],
   "execution_count": null
  },
  {
   "cell_type": "code",
   "id": "9acd9b13545667a6",
   "metadata": {},
   "source": [
    "# Calculate the count of fires in each state\n",
    "state_data[\"fire_count\"] = state_data.geometry.apply(\n",
    "    lambda state_geom: wf_perims.geometry.intersects(state_geom).sum()\n",
    ")"
   ],
   "outputs": [],
   "execution_count": null
  },
  {
   "cell_type": "code",
   "id": "3502fcc299b5cd42",
   "metadata": {},
   "source": [
    "# Create a color gradient for fire counts\n",
    "fire_count_colormap = branca.colormap.LinearColormap(\n",
    "    colors=[\"green\", \"yellow\", \"orange\", \"red\"],\n",
    "    vmin=state_data[\"fire_count\"].min(),\n",
    "    vmax=state_data[\"fire_count\"].max(),\n",
    "    caption=\"Fire Count\",\n",
    ")"
   ],
   "outputs": [],
   "execution_count": null
  },
  {
   "cell_type": "code",
   "id": "b290fc66ce93788b",
   "metadata": {},
   "source": [
    "# Add state boundaries with colors based on fire count\n",
    "folium.GeoJson(\n",
    "    state_data,\n",
    "    style_function=lambda x: {\n",
    "        \"fillColor\": fire_count_colormap(x[\"properties\"][\"fire_count\"]),\n",
    "        \"color\": \"black\",\n",
    "        \"weight\": 1,\n",
    "        \"dashArray\": \"2,5\",\n",
    "    },\n",
    "    popup=folium.GeoJsonPopup(fields=[\"fire_count\"]),\n",
    ").add_to(map4)"
   ],
   "outputs": [],
   "execution_count": null
  },
  {
   "cell_type": "code",
   "id": "ca830cadd1165c7a",
   "metadata": {},
   "source": [
    "# Configure popup information for fire perimeters\n",
    "popup = folium.GeoJsonPopup(\n",
    "    fields=[\"attr_IncidentName\", \"poly_GISAcres\", \"attr_EstimatedCostToDate\"],\n",
    "    aliases=[\"Incident Name\", \"Acres\", \"Cost\"],\n",
    "    localize=True,\n",
    "    labels=True,\n",
    "    style=\"background-color: blue;\",\n",
    ")"
   ],
   "outputs": [],
   "execution_count": null
  },
  {
   "cell_type": "code",
   "id": "122bd867353ab34e",
   "metadata": {},
   "source": [
    "# Add wildfire perimeters with color based on size\n",
    "folium.GeoJson(\n",
    "    wf_perims,\n",
    "    style_function=lambda x: {\n",
    "        \"fillColor\": colormap_size(x[\"properties\"][\"poly_GISAcres\"]),\n",
    "        \"color\": colormap_size(x[\"properties\"][\"poly_GISAcres\"]),\n",
    "    },\n",
    "    popup=popup,\n",
    ").add_to(map4)"
   ],
   "outputs": [],
   "execution_count": null
  },
  {
   "cell_type": "code",
   "id": "240028e7c174bbad",
   "metadata": {},
   "source": [
    "# Add the fire count legend to the map\n",
    "fire_count_colormap.add_to(map4)\n",
    "\n",
    "# Display the map\n",
    "map4"
   ],
   "outputs": [],
   "execution_count": null
  },
  {
   "cell_type": "markdown",
   "id": "27c202b84c66d0da",
   "metadata": {},
   "source": [
    "## Summary\n",
    "\n",
    "In this notebook, we've demonstrated how to:\n",
    "\n",
    "1. Load and preprocess geospatial wildfire data using GeoPandas\n",
    "2. Create interactive maps with Folium\n",
    "3. Add popups to display detailed information\n",
    "4. Use color gradients to visualize fire sizes\n",
    "5. Filter data by geographic regions\n",
    "6. Create choropleth maps to show fire counts by state\n",
    "\n",
    "These techniques can be applied to many other geospatial datasets and analysis scenarios."
   ]
  }
 ],
 "metadata": {
  "kernelspec": {
   "display_name": "Python 3 (ipykernel)",
   "language": "python",
   "name": "python3"
  },
  "language_info": {
   "codemirror_mode": {
    "name": "ipython",
    "version": 3
   },
   "file_extension": ".py",
   "mimetype": "text/x-python",
   "name": "python",
   "nbconvert_exporter": "python",
   "pygments_lexer": "ipython3",
   "version": "3.12.0"
  }
 },
 "nbformat": 4,
 "nbformat_minor": 5
}
