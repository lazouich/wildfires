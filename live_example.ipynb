{
 "cells": [
  {
   "metadata": {},
   "cell_type": "markdown",
   "source": "# Wildfire Analysis Live Example",
   "id": "7b537869e4300f07"
  },
  {
   "metadata": {},
   "cell_type": "code",
   "source": [
    "import geopandas as gpd\n",
    "import folium\n",
    "import branca\n",
    "\n",
    "# Get file name\n",
    "from pathlib import Path\n",
    "\n",
    "file_name = \"WFIGS_Interagency_Perimeters_YTD.geojson\"\n",
    "wf_perim_path = Path.cwd() / file_name\n",
    "wf_perims = gpd.read_file(wf_perim_path)"
   ],
   "id": "474096959aa27f74",
   "outputs": [],
   "execution_count": null
  },
  {
   "metadata": {},
   "cell_type": "code",
   "source": [
    "# Load map\n",
    "map = folium.Map(location=[34, -110], tiles=None, zoom_start=4)\n",
    "# Add OpenStreetMap tile layer\n",
    "folium.TileLayer(\"OpenStreetMap\", name=\"OpenStreetMap\").add_to(map)\n",
    "# Add CartoDB tile layer\n",
    "folium.TileLayer(\"CartoDB Positron\", name=\"CartoDB Positron\").add_to(map)"
   ],
   "id": "95a728f8fc685373",
   "outputs": [],
   "execution_count": null
  },
  {
   "metadata": {},
   "cell_type": "code",
   "source": [
    "# Load state data\n",
    "state_data = gpd.read_file(\n",
    "    \"https://raw.githubusercontent.com/python-visualization/folium-example-data/main/us_states.json\"\n",
    ")\n",
    "\n",
    "cols = [\n",
    "    \"attr_IncidentName\",\n",
    "    \"poly_GISAcres\",\n",
    "    \"attr_EstimatedCostToDate\",\n",
    "    \"geometry\",\n",
    "]\n",
    "\n",
    "wf_perims[\"attr_EstimatedCostToDate\"] = wf_perims.attr_EstimatedCostToDate.fillna(\n",
    "    value=0\n",
    ")\n",
    "wf_perims[\"poly_GISAcres\"] = wf_perims[\"poly_GISAcres\"].fillna(value=0)\n",
    "\n",
    "wf_perims = wf_perims[wf_perims[\"poly_GISAcres\"] >= 0]\n",
    "wf_perims = wf_perims[wf_perims[\"attr_EstimatedCostToDate\"] >= 0]\n",
    "\n",
    "# Count of fires in each state\n",
    "state_data[\"fire_count\"] = state_data.geometry.apply(\n",
    "    lambda state_geom: wf_perims.geometry.intersects(state_geom).sum()\n",
    "    if not wf_perims.empty\n",
    "    else 0\n",
    ")\n",
    "\n",
    "# Create state-level colormap for fire count\n",
    "colormap = branca.colormap.LinearColormap(\n",
    "    colors=[\"green\", \"yellow\", \"orange\", \"red\"],\n",
    "    vmin=0,\n",
    "    vmax=state_data[\"fire_count\"].max(),\n",
    ")\n"
   ],
   "id": "33f47fee03aaabf6",
   "outputs": [],
   "execution_count": null
  },
  {
   "metadata": {},
   "cell_type": "code",
   "source": [
    "# Add state boundaries layer\n",
    "folium.GeoJson(\n",
    "    state_data,\n",
    "    style_function=lambda x: {\n",
    "        \"fillColor\": colormap(x[\"properties\"][\"fire_count\"]),\n",
    "        \"color\": \"black\",\n",
    "        \"weight\": 1,\n",
    "        \"dashArray\": \"2,5 \",\n",
    "    },\n",
    "    name=\"States (Fire Count)\",  # Layer name for the state boundaries\n",
    "    popup=folium.GeoJsonPopup(fields=[\"name\",\"fire_count\"]),\n",
    ").add_to(map)\n"
   ],
   "id": "fbaf4ac458cd0316",
   "outputs": [],
   "execution_count": null
  },
  {
   "metadata": {},
   "cell_type": "code",
   "source": [
    "# Add wildfire perimeters layer with popups\n",
    "popup = folium.GeoJsonPopup(\n",
    "    fields=[\"attr_IncidentName\", \"poly_GISAcres\", \"attr_EstimatedCostToDate\"],\n",
    "    aliases=[\"Incident Name\", \"Acres\", \"Cost\"],\n",
    "    localize=True,\n",
    "    labels=True,\n",
    "    style=\"background-color: blue;\",\n",
    ")\n",
    "\n",
    "folium.GeoJson(\n",
    "    wf_perims,\n",
    "    style_function=lambda x: {\n",
    "        \"fillColor\": colormap(x[\"properties\"][\"poly_GISAcres\"]),\n",
    "        \"color\": colormap(x[\"properties\"][\"poly_GISAcres\"]),\n",
    "    },\n",
    "    name=\"Wildfire Perimeters\",  # Layer name for wildfire perimeters\n",
    "    popup=popup,\n",
    ").add_to(map)\n",
    "\n",
    "# Add colormap legend\n",
    "colormap.caption = \"Fire Count\"\n",
    "colormap.add_to(map)\n"
   ],
   "id": "84a4b26540ab270d",
   "outputs": [],
   "execution_count": null
  },
  {
   "metadata": {},
   "cell_type": "code",
   "source": [
    "# Add layer control to toggle layers\n",
    "folium.LayerControl().add_to(map)\n",
    "\n",
    "# Display the map\n",
    "map"
   ],
   "id": "75e47d7eee745a85",
   "outputs": [],
   "execution_count": null
  }
 ],
 "metadata": {
  "kernelspec": {
   "display_name": "Python 3",
   "language": "python",
   "name": "python3"
  },
  "language_info": {
   "codemirror_mode": {
    "name": "ipython",
    "version": 2
   },
   "file_extension": ".py",
   "mimetype": "text/x-python",
   "name": "python",
   "nbconvert_exporter": "python",
   "pygments_lexer": "ipython2",
   "version": "2.7.6"
  }
 },
 "nbformat": 4,
 "nbformat_minor": 5
}
